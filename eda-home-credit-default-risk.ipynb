{
 "cells": [
  {
   "cell_type": "code",
   "execution_count": 1,
   "id": "0ad1993a",
   "metadata": {
    "_cell_guid": "b1076dfc-b9ad-4769-8c92-a6c4dae69d19",
    "_uuid": "8f2839f25d086af736a60e9eeb907d3b93b6e0e5",
    "execution": {
     "iopub.execute_input": "2022-06-21T04:26:03.689390Z",
     "iopub.status.busy": "2022-06-21T04:26:03.688689Z",
     "iopub.status.idle": "2022-06-21T04:26:03.707185Z",
     "shell.execute_reply": "2022-06-21T04:26:03.706315Z"
    },
    "papermill": {
     "duration": 0.025585,
     "end_time": "2022-06-21T04:26:03.709265",
     "exception": false,
     "start_time": "2022-06-21T04:26:03.683680",
     "status": "completed"
    },
    "tags": []
   },
   "outputs": [
    {
     "data": {
      "text/html": [
       "<style>.container { width:100% !important; }</style>"
      ],
      "text/plain": [
       "<IPython.core.display.HTML object>"
      ]
     },
     "metadata": {},
     "output_type": "display_data"
    },
    {
     "name": "stdout",
     "output_type": "stream",
     "text": [
      "/kaggle/input/home-credit-default-risk/sample_submission.csv\n",
      "/kaggle/input/home-credit-default-risk/bureau_balance.csv\n",
      "/kaggle/input/home-credit-default-risk/POS_CASH_balance.csv\n",
      "/kaggle/input/home-credit-default-risk/application_train.csv\n",
      "/kaggle/input/home-credit-default-risk/HomeCredit_columns_description.csv\n",
      "/kaggle/input/home-credit-default-risk/application_test.csv\n",
      "/kaggle/input/home-credit-default-risk/previous_application.csv\n",
      "/kaggle/input/home-credit-default-risk/credit_card_balance.csv\n",
      "/kaggle/input/home-credit-default-risk/installments_payments.csv\n",
      "/kaggle/input/home-credit-default-risk/bureau.csv\n"
     ]
    }
   ],
   "source": [
    "import numpy as np # linear algebra\n",
    "import pandas as pd # data processing, CSV file I/O (e.g. pd.read_csv)\n",
    "#for 100% jupyter notebook cell width\n",
    "from IPython.core.display import display, HTML\n",
    "display(HTML(\"<style>.container { width:100% !important; }</style>\"))\n",
    "#pandas DataFrame column and row display limits\n",
    "pd.set_option('max_columns', None)\n",
    "pd.set_option('max_rows', None)\n",
    "pd.options.display.float_format = \"{:.2f}\".format\n",
    "\n",
    "import os\n",
    "for dirname, _, filenames in os.walk('/kaggle/input'):\n",
    "    for filename in filenames:\n",
    "        print(os.path.join(dirname, filename))\n",
    "\n",
    "# You can write up to 20GB to the current directory (/kaggle/working/) that gets preserved as output when you create a version using \"Save & Run All\" \n",
    "# You can also write temporary files to /kaggle/temp/, but they won't be saved outside of the current session\n",
    "DIR_PATH = '/kaggle/input/home-credit-default-risk/'"
   ]
  },
  {
   "cell_type": "markdown",
   "id": "82b81dfb",
   "metadata": {
    "papermill": {
     "duration": 0.002329,
     "end_time": "2022-06-21T04:26:03.714504",
     "exception": false,
     "start_time": "2022-06-21T04:26:03.712175",
     "status": "completed"
    },
    "tags": []
   },
   "source": [
    "Some helpful utility functions"
   ]
  },
  {
   "cell_type": "code",
   "execution_count": 2,
   "id": "d9982ca1",
   "metadata": {
    "execution": {
     "iopub.execute_input": "2022-06-21T04:26:03.721267Z",
     "iopub.status.busy": "2022-06-21T04:26:03.720834Z",
     "iopub.status.idle": "2022-06-21T04:26:03.729272Z",
     "shell.execute_reply": "2022-06-21T04:26:03.728437Z"
    },
    "papermill": {
     "duration": 0.014149,
     "end_time": "2022-06-21T04:26:03.731065",
     "exception": false,
     "start_time": "2022-06-21T04:26:03.716916",
     "status": "completed"
    },
    "tags": []
   },
   "outputs": [],
   "source": [
    "def read_input_file(directory_path = DIR_PATH, fileName= 'application_train.csv', displayHead = True, displayInfo = True, displayStats = True, num_rows = None, verbose=True):\n",
    "    '''\n",
    "    Function to load the given input table\n",
    "    \n",
    "    Input:\n",
    "        directory_path: str, default = DIR_PATH\n",
    "            Path of directory in which table is stored\n",
    "        fileName: str, default = application_train.csv\n",
    "            Name of csv file containing the table\n",
    "        displayHead: bool, default = True\n",
    "            Display head for pandas dataframe\n",
    "        displayInfo: bool, default = True\n",
    "            Display info for pandas dataframe\n",
    "        displayStats: bool, default = True\n",
    "            Describe function for pandas dataframe\n",
    "        num_rows: int, default = None\n",
    "            Limit pandas read for debug mode or dry run\n",
    "        verbose: bool, default = True\n",
    "            Whether to keep verbosity or not\n",
    "    '''\n",
    "        \n",
    "    df = pd.read_csv(directory_path + fileName, nrows= num_rows)\n",
    "    if verbose:\n",
    "        print(\"Loaded {}... Dataframe contains {}\".format(fileName, len(df)))\n",
    "    if displayHead:\n",
    "        display(df.head())\n",
    "    if displayInfo:\n",
    "        display(df.info(verbose=True, show_counts = True))\n",
    "    if displayStats:\n",
    "        display(df.describe().T)\n",
    "    return df"
   ]
  },
  {
   "cell_type": "code",
   "execution_count": 3,
   "id": "f836feeb",
   "metadata": {
    "execution": {
     "iopub.execute_input": "2022-06-21T04:26:03.738450Z",
     "iopub.status.busy": "2022-06-21T04:26:03.737529Z",
     "iopub.status.idle": "2022-06-21T04:26:03.744349Z",
     "shell.execute_reply": "2022-06-21T04:26:03.743433Z"
    },
    "papermill": {
     "duration": 0.012743,
     "end_time": "2022-06-21T04:26:03.746546",
     "exception": false,
     "start_time": "2022-06-21T04:26:03.733803",
     "status": "completed"
    },
    "tags": []
   },
   "outputs": [],
   "source": [
    "def one_hot_encoder(df, nan_as_category = False):\n",
    "    '''\n",
    "    Function to do one-hot encoding for categorical columns with get_dummies\n",
    "    \n",
    "    Input:\n",
    "        df: Dataframe\n",
    "            Input dataframe\n",
    "        nan_as_category: bool, default = False\n",
    "            Treat NaN as a category\n",
    "        \n",
    "    '''\n",
    "    original_columns = list(df.columns)\n",
    "    categorical_columns = [col for col in df.columns if df[col].dtype == 'object']\n",
    "    df = pd.get_dummies(df, columns= categorical_columns, dummy_na= nan_as_category)\n",
    "    new_columns = [c for c in df.columns if c not in original_columns]\n",
    "    return df, new_columns"
   ]
  },
  {
   "cell_type": "code",
   "execution_count": null,
   "id": "e920f3e0",
   "metadata": {
    "papermill": {
     "duration": 0.002381,
     "end_time": "2022-06-21T04:26:03.751621",
     "exception": false,
     "start_time": "2022-06-21T04:26:03.749240",
     "status": "completed"
    },
    "tags": []
   },
   "outputs": [],
   "source": []
  }
 ],
 "metadata": {
  "kernelspec": {
   "display_name": "Python 3",
   "language": "python",
   "name": "python3"
  },
  "language_info": {
   "codemirror_mode": {
    "name": "ipython",
    "version": 3
   },
   "file_extension": ".py",
   "mimetype": "text/x-python",
   "name": "python",
   "nbconvert_exporter": "python",
   "pygments_lexer": "ipython3",
   "version": "3.7.12"
  },
  "papermill": {
   "default_parameters": {},
   "duration": 10.901922,
   "end_time": "2022-06-21T04:26:04.375014",
   "environment_variables": {},
   "exception": null,
   "input_path": "__notebook__.ipynb",
   "output_path": "__notebook__.ipynb",
   "parameters": {},
   "start_time": "2022-06-21T04:25:53.473092",
   "version": "2.3.4"
  }
 },
 "nbformat": 4,
 "nbformat_minor": 5
}
