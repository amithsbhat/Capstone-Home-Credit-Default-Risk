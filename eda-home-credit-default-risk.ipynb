{
 "cells": [
  {
   "cell_type": "code",
   "execution_count": 1,
   "id": "da5996c9",
   "metadata": {
    "_cell_guid": "b1076dfc-b9ad-4769-8c92-a6c4dae69d19",
    "_uuid": "8f2839f25d086af736a60e9eeb907d3b93b6e0e5",
    "execution": {
     "iopub.execute_input": "2022-06-21T03:40:00.537085Z",
     "iopub.status.busy": "2022-06-21T03:40:00.536289Z",
     "iopub.status.idle": "2022-06-21T03:40:00.549740Z",
     "shell.execute_reply": "2022-06-21T03:40:00.548929Z"
    },
    "papermill": {
     "duration": 0.020024,
     "end_time": "2022-06-21T03:40:00.552134",
     "exception": false,
     "start_time": "2022-06-21T03:40:00.532110",
     "status": "completed"
    },
    "tags": []
   },
   "outputs": [
    {
     "name": "stdout",
     "output_type": "stream",
     "text": [
      "/kaggle/input/home-credit-default-risk/sample_submission.csv\n",
      "/kaggle/input/home-credit-default-risk/bureau_balance.csv\n",
      "/kaggle/input/home-credit-default-risk/POS_CASH_balance.csv\n",
      "/kaggle/input/home-credit-default-risk/application_train.csv\n",
      "/kaggle/input/home-credit-default-risk/HomeCredit_columns_description.csv\n",
      "/kaggle/input/home-credit-default-risk/application_test.csv\n",
      "/kaggle/input/home-credit-default-risk/previous_application.csv\n",
      "/kaggle/input/home-credit-default-risk/credit_card_balance.csv\n",
      "/kaggle/input/home-credit-default-risk/installments_payments.csv\n",
      "/kaggle/input/home-credit-default-risk/bureau.csv\n"
     ]
    }
   ],
   "source": [
    "import numpy as np # linear algebra\n",
    "import pandas as pd # data processing, CSV file I/O (e.g. pd.read_csv)\n",
    "\n",
    "import os\n",
    "for dirname, _, filenames in os.walk('/kaggle/input'):\n",
    "    for filename in filenames:\n",
    "        print(os.path.join(dirname, filename))\n",
    "\n",
    "# You can write up to 20GB to the current directory (/kaggle/working/) that gets preserved as output when you create a version using \"Save & Run All\" \n",
    "# You can also write temporary files to /kaggle/temp/, but they won't be saved outside of the current session\n",
    "DIR_PATH = '/kaggle/input/home-credit-default-risk/'"
   ]
  },
  {
   "cell_type": "code",
   "execution_count": null,
   "id": "93d550c5",
   "metadata": {
    "papermill": {
     "duration": 0.001473,
     "end_time": "2022-06-21T03:40:00.555699",
     "exception": false,
     "start_time": "2022-06-21T03:40:00.554226",
     "status": "completed"
    },
    "tags": []
   },
   "outputs": [],
   "source": []
  }
 ],
 "metadata": {
  "kernelspec": {
   "display_name": "Python 3",
   "language": "python",
   "name": "python3"
  },
  "language_info": {
   "codemirror_mode": {
    "name": "ipython",
    "version": 3
   },
   "file_extension": ".py",
   "mimetype": "text/x-python",
   "name": "python",
   "nbconvert_exporter": "python",
   "pygments_lexer": "ipython3",
   "version": "3.7.12"
  },
  "papermill": {
   "default_parameters": {},
   "duration": 11.388396,
   "end_time": "2022-06-21T03:40:01.179166",
   "environment_variables": {},
   "exception": null,
   "input_path": "__notebook__.ipynb",
   "output_path": "__notebook__.ipynb",
   "parameters": {},
   "start_time": "2022-06-21T03:39:49.790770",
   "version": "2.3.4"
  }
 },
 "nbformat": 4,
 "nbformat_minor": 5
}
